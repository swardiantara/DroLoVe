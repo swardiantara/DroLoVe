{
 "cells": [
  {
   "cell_type": "code",
   "execution_count": 1,
   "metadata": {},
   "outputs": [
    {
     "name": "stdout",
     "output_type": "stream",
     "text": [
      "e:\\Data Kuliah\\S2 ITS\\Semester 6\\IEEE Access\\DroMoLog\\notebooks\n"
     ]
    }
   ],
   "source": [
    "import os\n",
    "\n",
    "print(os.path.abspath(os.curdir))"
   ]
  },
  {
   "cell_type": "code",
   "execution_count": 2,
   "metadata": {},
   "outputs": [],
   "source": [
    "import os\n",
    "os.chdir(\"..\")"
   ]
  },
  {
   "cell_type": "code",
   "execution_count": 3,
   "metadata": {},
   "outputs": [
    {
     "name": "stdout",
     "output_type": "stream",
     "text": [
      "e:\\Data Kuliah\\S2 ITS\\Semester 6\\IEEE Access\\DroMoLog\n"
     ]
    }
   ],
   "source": [
    "print(os.path.abspath(os.curdir))"
   ]
  },
  {
   "cell_type": "markdown",
   "metadata": {},
   "source": [
    "#### Filtered Dataset"
   ]
  },
  {
   "cell_type": "code",
   "execution_count": 4,
   "metadata": {},
   "outputs": [],
   "source": [
    "import os\n",
    "import pandas as pd\n",
    "\n",
    "\n",
    "def build_recap_best_model(scenario, workdir):\n",
    "    recap_path = os.path.join(workdir, f'recap_overall_{scenario}.xlsx')\n",
    "    recap_df = pd.read_excel(recap_path)\n",
    "    recap_filtered = recap_df[recap_df['dataset'] == 'filtered']\n",
    "    group_columns = ['encoder', 'scenario']\n",
    "    value_columns = ['accuracy', 'f1_score']\n",
    "\n",
    "    # Use groupby to group the DataFrame by the specified columns\n",
    "    # Then apply idxmax() to get the index of the maximum value in each group\n",
    "    max_indices = recap_filtered.groupby(group_columns)['accuracy'].idxmax()\n",
    "    best_model_acc_f1_filtered = recap_filtered.sort_values(value_columns, ascending=False).groupby(group_columns).head(1)\n",
    "    # Use loc to retrieve the corresponding rows based on the indices\n",
    "    max_rows_filtered = recap_filtered.loc[max_indices]\n",
    "    \n",
    "    recap_unfiltered = recap_df[recap_df['dataset'] == 'unfiltered']\n",
    "    # group_columns = ['encoder', 'scenario']\n",
    "    # value_column = 'accuracy'\n",
    "\n",
    "    # Use groupby to group the DataFrame by the specified columns\n",
    "    # Then apply idxmax() to get the index of the maximum value in each group\n",
    "    max_indices = recap_unfiltered.groupby(group_columns)['accuracy'].idxmax()\n",
    "    best_model_acc_f1_unfiltered = recap_unfiltered.sort_values(value_columns, ascending=False).groupby(group_columns).head(1)\n",
    "\n",
    "    # Use loc to retrieve the corresponding rows based on the indices\n",
    "    max_rows_unfiltered = recap_unfiltered.loc[max_indices]\n",
    "    \n",
    "    best_model = pd.concat([max_rows_filtered, max_rows_unfiltered], ignore_index=True)\n",
    "    best_model.to_excel(os.path.join(workdir, f'best_model_acc_{scenario}.xlsx'), index=False)\n",
    "    \n",
    "    best_model_acc_f1 = pd.concat([best_model_acc_f1_filtered, best_model_acc_f1_unfiltered], ignore_index=True)\n",
    "    best_model_acc_f1.to_excel(os.path.join(workdir, f'best_model_acc_f1_{scenario}.xlsx'), index=False)"
   ]
  },
  {
   "cell_type": "code",
   "execution_count": 5,
   "metadata": {},
   "outputs": [],
   "source": [
    "scenario = 'baseline_15'\n",
    "# source_dir = os.path.join('experiments', scenario)\n",
    "workdir = os.path.join('experiments', 'recap', scenario)\n",
    "build_recap_best_model(scenario, workdir)"
   ]
  },
  {
   "cell_type": "code",
   "execution_count": 7,
   "metadata": {},
   "outputs": [],
   "source": [
    "scenario = 'multitask_15'\n",
    "# source_dir = os.path.join('experiments', scenario)\n",
    "workdir = os.path.join('experiments', 'recap', scenario)\n",
    "build_recap_best_model(scenario, workdir)"
   ]
  },
  {
   "cell_type": "code",
   "execution_count": null,
   "metadata": {},
   "outputs": [],
   "source": []
  }
 ],
 "metadata": {
  "kernelspec": {
   "display_name": "Python 3",
   "language": "python",
   "name": "python3"
  },
  "language_info": {
   "codemirror_mode": {
    "name": "ipython",
    "version": 3
   },
   "file_extension": ".py",
   "mimetype": "text/x-python",
   "name": "python",
   "nbconvert_exporter": "python",
   "pygments_lexer": "ipython3",
   "version": "3.11.2"
  }
 },
 "nbformat": 4,
 "nbformat_minor": 2
}
