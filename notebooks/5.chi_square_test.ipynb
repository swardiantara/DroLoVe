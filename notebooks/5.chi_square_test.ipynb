{
 "cells": [
  {
   "cell_type": "code",
   "execution_count": 32,
   "metadata": {},
   "outputs": [
    {
     "name": "stdout",
     "output_type": "stream",
     "text": [
      "e:\\Data Kuliah\\S2 ITS\\Semester 6\\IEEE Access\\DroMoLog\n"
     ]
    }
   ],
   "source": [
    "import os\n",
    "\n",
    "print(os.path.abspath(os.curdir))"
   ]
  },
  {
   "cell_type": "code",
   "execution_count": 5,
   "metadata": {},
   "outputs": [],
   "source": [
    "import os\n",
    "os.chdir(\"..\")"
   ]
  },
  {
   "cell_type": "code",
   "execution_count": 6,
   "metadata": {},
   "outputs": [
    {
     "name": "stdout",
     "output_type": "stream",
     "text": [
      "e:\\Data Kuliah\\S2 ITS\\Semester 6\\IEEE Access\\DroMoLog\n"
     ]
    }
   ],
   "source": [
    "print(os.path.abspath(os.curdir))"
   ]
  },
  {
   "cell_type": "code",
   "execution_count": 33,
   "metadata": {},
   "outputs": [],
   "source": [
    "import pandas as pd\n",
    "import seaborn as sns\n",
    "import matplotlib.pyplot as plt\n",
    "from scipy.stats import chi2_contingency\n",
    "\n",
    "def generate_chi_sq(dataset, encoder, dataframe):\n",
    "    chi2_results = {}\n",
    "    p_value = {}\n",
    "    # print(dataframe.columns)\n",
    "    # Loop through each categorical column (excluding the evaluation score column)\n",
    "    for column in dataframe.columns:\n",
    "        if column != 'accuracy':\n",
    "        # if column != evaluation_score and dataframe[column].dtype == 'object':\n",
    "            # Create a contingency table\n",
    "            contingency_table = pd.crosstab(dataframe[column], dataframe['accuracy'])\n",
    "            \n",
    "            # Perform the chi-squared test\n",
    "            chi2, p_val, _, _ = chi2_contingency(contingency_table)\n",
    "            \n",
    "            # Store the chi-squared statistic in the dictionary\n",
    "            chi2_results[column] = chi2\n",
    "            p_value[column] = p_val\n",
    "            # chi2_results = {k:[v] for k,v in chi2_results.items()}\n",
    "            # chi2_results_df = pd.DataFrame([chi2_results])\n",
    "            # contingency_table.to_excel(f'experiments/analysis/contingency_table_{dataset}_{encoder}_{column}.xlsx')\n",
    "            # chi2_results_df.to_excel(f'experiments/analysis/chi2_results_{dataset}_{encoder}_{column}.xlsx', index=True)\n",
    "\n",
    "    # print(f\"chi: {chi2_results}\")\n",
    "    # print(f\"p_val: {p_value}\")\n",
    "    # print(contingency_table)\n",
    "    \n",
    "    # Sort the results by chi-squared statistic in descending order\n",
    "    sorted_chi2_results = dict(sorted(chi2_results.items(), key=lambda item: item[1], reverse=True))\n",
    "\n",
    "    # Plot the chi-squared statistics\n",
    "    plt.figure(figsize=(6, 4))\n",
    "    sns.barplot(x=list(sorted_chi2_results.keys()), y=list(sorted_chi2_results.values()))\n",
    "    plt.xticks(rotation=90)\n",
    "    plt.xlabel('Categorical Columns')\n",
    "    plt.ylabel('Chi-squared Statistic')\n",
    "    plt.title(f'Chi-squared Test for {dataset}-{encoder} vs. Accuracy')\n",
    "    # plt.savefig(os.path.join('visualizations/chi-square', f\"{dataset}_{encoder}.pdf\"), bbox_inches='tight')\n",
    "    # plt.show()\n",
    "    plt.close()\n",
    "    return chi2_results, p_value"
   ]
  },
  {
   "cell_type": "code",
   "execution_count": 34,
   "metadata": {},
   "outputs": [],
   "source": [
    "import collections\n",
    "# Load your dataset into a pandas DataFrame\n",
    "# Replace 'your_dataset.csv' with the actual file path\n",
    "data = pd.read_excel('experiments/recap/final-recap-all.xlsx')\n",
    "# print(data)\n",
    "# data_filtered = data[data['dataset'] == 'fold5']\n",
    "# data_unfiltered = data[data['dataset'] == 'unfiltered']\n",
    "encoders = list(set(data['encoder'].to_list()))\n",
    "datasets = list(set(data['dataset'].to_list()))\n",
    "# Specify the evaluation score you want to analyze (e.g., 'accuracy' or 'f1_score')\n",
    "evaluation_score = 'accuracy'\n",
    "recap_chi = collections.defaultdict(dict)\n",
    "# print(f'data: {len(data)}')\n",
    "# Bisa diganti line plot buat dua garis aja untuk filtered and unfiltered dataset.\n",
    "# Initialize an empty dictionary to store chi-squared test results\n",
    "for dataset in datasets:\n",
    "    data_dataset = data[data['dataset'] == dataset]\n",
    "    # print(f'data_dataset: {len(data_dataset)}')\n",
    "    for encoder in encoders:\n",
    "        exclude_cols = ['recall', 'precision', 'f1_score', 'best_epoch', 'dataset', 'confidence_avg', 'confidence_std']\n",
    "        data_encoder = data_dataset[data_dataset['encoder'] == encoder]\n",
    "        # print(f'data_encoder: {len(data_encoder)}')\n",
    "        data_ready = data_encoder.drop(exclude_cols, axis=1)\n",
    "        chi2_results, p_value = generate_chi_sq(dataset, encoder, data_ready)\n",
    "        # print(f'dataset: {dataset}, encoder: {encoder}')\n",
    "        # print(f'chi2_results: {chi2_results}, p_value: {p_value}')\n",
    "        # print(f'data_ready: \\n{data_ready}')\n",
    "        joined_string = dataset + '_' + encoder\n",
    "        # for key, value in chi2_results.items():\n",
    "        #     recap_chi[joined_string][key]['chi'] = value\n",
    "        # for key, value in p_value.items():\n",
    "        #     recap_chi[joined_string][key]['p_value'] = value\n",
    "        recap_chi[dataset][encoder] = {'chi': chi2_results, 'p_value': p_value}\n",
    "# recap_chi"
   ]
  },
  {
   "cell_type": "code",
   "execution_count": 35,
   "metadata": {},
   "outputs": [
    {
     "name": "stdout",
     "output_type": "stream",
     "text": [
      "[['U-LSTM', 'n_layer', 39.165398704822174, 0.01], ['U-LSTM', 'n_head', 0.0, 1.0], ['U-LSTM', 'bidirectional', 5.681834396798168, 0.89], ['U-LSTM', 'pooling', 33.959684931185805, 0.05], ['U-LSTM', 'class_weight', 31.874823133296452, 0.08], ['U-LSTM', 'scenario', 37.443398130156936, 0.02], ['U-GRU', 'n_layer', 17.26305683563748, 0.37], ['U-GRU', 'n_head', 0.0, 1.0], ['U-GRU', 'bidirectional', 16.78873527905786, 0.03], ['U-GRU', 'pooling', 21.35483870967742, 0.17], ['U-GRU', 'class_weight', 24.080568356374812, 0.09], ['U-GRU', 'scenario', 12.509139784946235, 0.71], ['U-Trans', 'n_layer', 35.062372263470415, 0.02], ['U-Trans', 'n_head', 18.189234426022345, 0.57], ['U-Trans', 'bidirectional', 0.0, 1.0], ['U-Trans', 'pooling', 40.64631971152219, 0.0], ['U-Trans', 'class_weight', 45.34678671192056, 0.0], ['U-Trans', 'scenario', 34.36893225019512, 0.02], ['U-None', 'n_layer', 0.0, 1.0], ['U-None', 'n_head', 0.0, 1.0], ['U-None', 'bidirectional', 0.0, 1.0], ['U-None', 'pooling', 20.721428571428575, 0.11], ['U-None', 'class_weight', 14.335714285714289, 0.43], ['U-None', 'scenario', 17.228571428571428, 0.24], ['F-LSTM', 'n_layer', 7.540208559912993, 0.91], ['F-LSTM', 'n_head', 0.0, 1.0], ['F-LSTM', 'bidirectional', 9.578508519395218, 0.21], ['F-LSTM', 'pooling', 23.84712270488133, 0.05], ['F-LSTM', 'class_weight', 17.909930586654724, 0.21], ['F-LSTM', 'scenario', 13.435344827586206, 0.49], ['F-GRU', 'n_layer', 25.556519831519832, 0.11], ['F-GRU', 'n_head', 0.0, 1.0], ['F-GRU', 'bidirectional', 18.50816270816271, 0.03], ['F-GRU', 'pooling', 11.045185445185444, 0.89], ['F-GRU', 'class_weight', 47.06458698958699, 0.0], ['F-GRU', 'scenario', 27.250687375687374, 0.07], ['F-Trans', 'n_layer', 43.97891509635484, 0.0], ['F-Trans', 'n_head', 24.338731311806875, 0.23], ['F-Trans', 'bidirectional', 0.0, 1.0], ['F-Trans', 'pooling', 50.72719329302917, 0.0], ['F-Trans', 'class_weight', 48.9031008166217, 0.0], ['F-Trans', 'scenario', 17.063735098576405, 0.65], ['F-None', 'n_layer', 0.0, 1.0], ['F-None', 'n_head', 0.0, 1.0], ['F-None', 'bidirectional', 0.0, 1.0], ['F-None', 'pooling', 14.750000000000002, 0.06], ['F-None', 'class_weight', 8.0, 0.43], ['F-None', 'scenario', 11.666666666666668, 0.17]]\n"
     ]
    }
   ],
   "source": [
    "def nested_dict():\n",
    "   return collections.defaultdict(nested_dict)\n",
    "restructured_list = []\n",
    "restructured = nested_dict()\n",
    "for dataset, values in recap_chi.items():\n",
    "    for encoder, chis in values.items():\n",
    "        # print(f'chi: {chis.items()}')\n",
    "        hyperparams = []\n",
    "        chi_score = []\n",
    "        p_score = []\n",
    "        if encoder == 'none' or encoder == 'linear':\n",
    "            encoder = 'None'\n",
    "        elif len(encoder) < 5:\n",
    "            encoder = str.upper(encoder)\n",
    "        else:\n",
    "            encoder = 'Trans'\n",
    "        dataset_short = 'F' if dataset =='filtered' else 'U'\n",
    "        dataset_encoder = dataset_short + '-' + encoder\n",
    "        for chi, variables in chis.items():\n",
    "            if chi == 'chi':\n",
    "                for variable, value in variables.items():\n",
    "                    if variable == 'encoder':\n",
    "                        continue\n",
    "                    hyperparams.append(variable)\n",
    "                    chi_score.append(value)\n",
    "                    # restructured[dataset_encoder][variable]['chi'] = value\n",
    "            else:\n",
    "                for variable, value in variables.items():\n",
    "                    if variable == 'encoder':\n",
    "                        continue\n",
    "                    p_score.append(value)\n",
    "                    # restructured[dataset_encoder][variable]['p_value'] = value\n",
    "                    # print(f'dataset: {dataset}, encoder: {encoder}, chi: {chi}, variable: {variable}, value: {value}')\n",
    "        for i in range(0, len(hyperparams)):\n",
    "            restructured_list.append([dataset_encoder, hyperparams[i], chi_score[i], round(p_score[i], 2)])\n",
    "print(restructured_list)"
   ]
  },
  {
   "cell_type": "code",
   "execution_count": 36,
   "metadata": {},
   "outputs": [],
   "source": [
    "def transform_cols(column):\n",
    "    if column == 'n_layer':\n",
    "        return 'Num. Layer'\n",
    "    elif column == 'n_head':\n",
    "        return 'Num. Head'\n",
    "    elif column == 'bidirectional':\n",
    "        return 'Bidirectional'\n",
    "    elif column == 'pooling':\n",
    "        return 'Pooling'\n",
    "    elif column == 'scenario':\n",
    "        return 'Loss Function'\n",
    "    elif column == 'class_weight':\n",
    "        return 'Class Weight'\n",
    "    elif column == 'confidence_avg':\n",
    "        return 'Confidence'"
   ]
  },
  {
   "cell_type": "code",
   "execution_count": 37,
   "metadata": {},
   "outputs": [],
   "source": [
    "import pandas as pd\n",
    "\n",
    "akhirnya_df = pd.DataFrame(restructured_list, columns=['Dataset-Encoder', 'Hyperparameter', 'chi-score', 'p-value'])\n",
    "akhirnya_df['Hyperparameter'] = akhirnya_df['Hyperparameter'].apply(transform_cols)\n",
    "akhirnya_df.to_excel('experiments/analysis/chi_square_test.xlsx', index=False)"
   ]
  },
  {
   "cell_type": "code",
   "execution_count": 67,
   "metadata": {},
   "outputs": [
    {
     "name": "stdout",
     "output_type": "stream",
     "text": [
      "Hyperparameter   Bidirectional  Class Weight  Loss Function  Num. Head  \\\n",
      "Dataset-Encoder                                                          \n",
      "F-GRU                18.508163     47.064587      27.250687   0.000000   \n",
      "F-LSTM                9.578509     17.909931      13.435345   0.000000   \n",
      "F-None                0.000000      8.000000      11.666667   0.000000   \n",
      "F-Trans               0.000000     48.903101      17.063735  24.338731   \n",
      "U-GRU                16.788735     24.080568      12.509140   0.000000   \n",
      "U-LSTM                5.681834     31.874823      37.443398   0.000000   \n",
      "U-None                0.000000     14.335714      17.228571   0.000000   \n",
      "U-Trans               0.000000     45.346787      34.368932  18.189234   \n",
      "\n",
      "Hyperparameter   Num. Layer    Pooling  \n",
      "Dataset-Encoder                         \n",
      "F-GRU             25.556520  11.045185  \n",
      "F-LSTM             7.540209  23.847123  \n",
      "F-None             0.000000  14.750000  \n",
      "F-Trans           43.978915  50.727193  \n",
      "U-GRU             17.263057  21.354839  \n",
      "U-LSTM            39.165399  33.959685  \n",
      "U-None             0.000000  20.721429  \n",
      "U-Trans           35.062372  40.646320  \n",
      "Hyperparameter   Bidirectional  Class Weight  Loss Function  Num. Head  \\\n",
      "Dataset-Encoder                                                          \n",
      "F-GRU                     0.03          0.00           0.07       1.00   \n",
      "F-LSTM                    0.21          0.21           0.49       1.00   \n",
      "F-None                    1.00          0.43           0.17       1.00   \n",
      "F-Trans                   1.00          0.00           0.65       0.23   \n",
      "U-GRU                     0.03          0.09           0.71       1.00   \n",
      "U-LSTM                    0.89          0.08           0.02       1.00   \n",
      "U-None                    1.00          0.43           0.24       1.00   \n",
      "U-Trans                   1.00          0.00           0.02       0.57   \n",
      "\n",
      "Hyperparameter   Num. Layer  Pooling  \n",
      "Dataset-Encoder                       \n",
      "F-GRU                  0.11     0.89  \n",
      "F-LSTM                 0.91     0.05  \n",
      "F-None                 1.00     0.06  \n",
      "F-Trans                0.00     0.00  \n",
      "U-GRU                  0.37     0.17  \n",
      "U-LSTM                 0.01     0.05  \n",
      "U-None                 1.00     0.11  \n",
      "U-Trans                0.02     0.00  \n"
     ]
    },
    {
     "data": {
      "image/png": "[encoded data removed]",
      "text/plain": [
       "<Figure size 1000x550 with 2 Axes>"
      ]
     },
     "metadata": {},
     "output_type": "display_data"
    }
   ],
   "source": [
    "import pandas as pd\n",
    "import seaborn as sns\n",
    "import matplotlib.pyplot as plt\n",
    "import matplotlib\n",
    "# matplotlib.rcParams['font.family'] = 'Times New Roman'\n",
    "matplotlib.rcParams['font.size'] = 9.5\n",
    "# Sample data\n",
    "# data = {\n",
    "#     'encoder': ['enc1', 'enc1', 'enc2', 'enc2', 'enc3', 'enc3', 'enc4', 'enc4', 'enc5', 'enc5', 'enc6', 'enc6', 'enc7', 'enc7', 'enc8', 'enc8'],\n",
    "#     'hyperparam': ['var1', 'var2', 'var1', 'var2', 'var1', 'var2', 'var1', 'var2', 'var1', 'var2', 'var1', 'var2', 'var1', 'var2', 'var1', 'var2'],\n",
    "#     'chi-score': [10.5, 15.2, 8.9, 12.8, 9.4, 14.6, 11.7, 16.3, 7.8, 13.5, 10.1, 15.8, 9.9, 14.0, 12.3, 17.1],\n",
    "#     'p-value': [0.001, 0.0001, 0.002, 0.0002, 0.0015, 0.00005, 0.0012, 0.00009, 0.0023, 0.00008, 0.0011, 0.00012, 0.0014, 0.00007, 0.00015, 0.00004]\n",
    "# }\n",
    "# data = {\n",
    "#     'encoder': akhirnya_df['encoder'].to_list(),\n",
    "#     'hyperparam': akhirnya_df['hyperparam'].to_list(),\n",
    "#     'chi-score': akhirnya_df['chi-score'].to_list(),\n",
    "#     'p-value': akhirnya_df['p-value'].to_list()\n",
    "# }\n",
    "\n",
    "df = akhirnya_df.copy()\n",
    "# df = pd.DataFrame(data)\n",
    "# print(df)\n",
    "# Pivot the DataFrame to create a matrix\n",
    "# heatmap_data = df.pivot(\"encoder\", \"variables\", \"chi-score\")\n",
    "heatmap_chi = df.pivot(index='Dataset-Encoder', columns='Hyperparameter', values='chi-score')\n",
    "heatmap_p = df.pivot(index='Dataset-Encoder', columns='Hyperparameter', values='p-value')\n",
    "print(heatmap_chi)\n",
    "print(heatmap_p)\n",
    "# print(heatmap_data.shape)\n",
    "# Create a heatmap with p-values as labels\n",
    "plt.figure(figsize=(10, 5.5))\n",
    "# ax = sns.heatmap(heatmap_data, annot=df.pivot(index=\"Dataset-Encoder\", columns=\"Hyperparameter\", values=\"p-value\"), cmap=\"YlGnBu\", fmt=\".2f\", cbar=True, square=True)\n",
    "ax = sns.heatmap(heatmap_chi, cmap=\"YlGnBu\", fmt=\".2f\", cbar=True, square=True)\n",
    "for i in range(heatmap_p.shape[0]):\n",
    "    for j in range(heatmap_p.shape[1]):\n",
    "        if heatmap_p.iloc[i, j] < 0.05:\n",
    "            if heatmap_chi.iloc[i, j] < 30:\n",
    "                plt.text(j + 0.5, i + 0.5, f\"{heatmap_chi.iloc[i, j]:.2f}\", ha=\"center\", va=\"center\")\n",
    "            else:\n",
    "                plt.text(j + 0.5, i + 0.5, f\"{heatmap_chi.iloc[i, j]:.2f}\", ha=\"center\", va=\"center\", color=\"white\")\n",
    "# plt.title(\"Chi-Square Test Results by Variable and Encoder\")\n",
    "plt.savefig(os.path.join('visualization', \"categorical_hyperparams-time.pdf\"), bbox_inches='tight')\n",
    "plt.show()\n",
    "plt.close()\n"
   ]
  },
  {
   "cell_type": "code",
   "execution_count": null,
   "metadata": {},
   "outputs": [],
   "source": [
    "import pandas as pd\n",
    "import seaborn as sns\n",
    "import matplotlib.pyplot as plt\n",
    "import matplotlib\n",
    "# matplotlib.rcParams['font.family'] = 'Times New Roman'\n",
    "matplotlib.rcParams['font.size'] = 9.5\n",
    "# Sample data\n",
    "# data = {\n",
    "#     'encoder': ['enc1', 'enc1', 'enc2', 'enc2', 'enc3', 'enc3', 'enc4', 'enc4', 'enc5', 'enc5', 'enc6', 'enc6', 'enc7', 'enc7', 'enc8', 'enc8'],\n",
    "#     'hyperparam': ['var1', 'var2', 'var1', 'var2', 'var1', 'var2', 'var1', 'var2', 'var1', 'var2', 'var1', 'var2', 'var1', 'var2', 'var1', 'var2'],\n",
    "#     'chi-score': [10.5, 15.2, 8.9, 12.8, 9.4, 14.6, 11.7, 16.3, 7.8, 13.5, 10.1, 15.8, 9.9, 14.0, 12.3, 17.1],\n",
    "#     'p-value': [0.001, 0.0001, 0.002, 0.0002, 0.0015, 0.00005, 0.0012, 0.00009, 0.0023, 0.00008, 0.0011, 0.00012, 0.0014, 0.00007, 0.00015, 0.00004]\n",
    "# }\n",
    "# data = {\n",
    "#     'encoder': akhirnya_df['encoder'].to_list(),\n",
    "#     'hyperparam': akhirnya_df['hyperparam'].to_list(),\n",
    "#     'chi-score': akhirnya_df['chi-score'].to_list(),\n",
    "#     'p-value': akhirnya_df['p-value'].to_list()\n",
    "# }\n",
    "\n",
    "df = akhirnya_df.copy()\n",
    "# df = pd.DataFrame(data)\n",
    "# print(df)\n",
    "# Pivot the DataFrame to create a matrix\n",
    "# heatmap_data = df.pivot(\"encoder\", \"variables\", \"chi-score\")\n",
    "heatmap_data = df.pivot(index='Dataset-Encoder', columns='Hyperparameter', values='p-value')\n",
    "\n",
    "\n",
    "# Create a heatmap with p-values as labels\n",
    "plt.figure(figsize=(10, 5.5))\n",
    "ax = sns.heatmap(heatmap_data, annot=df.pivot(index=\"Dataset-Encoder\", columns=\"Hyperparameter\", values=\"p-value\"), cmap=\"YlGnBu\", fmt=\".2f\", cbar=True, square=True)\n",
    "# plt.title(\"Chi-Square Test Results by Variable and Encoder\")\n",
    "# plt.savefig(os.path.join('visualization', \"categorical_hyperparams-time.pdf\"), bbox_inches='tight')\n",
    "plt.show()\n",
    "plt.close()\n"
   ]
  },
  {
   "cell_type": "code",
   "execution_count": 47,
   "metadata": {},
   "outputs": [
    {
     "data": {
      "image/png": "[encoded data removed]",
      "text/plain": [
       "<Figure size 640x480 with 2 Axes>"
      ]
     },
     "metadata": {},
     "output_type": "display_data"
    }
   ],
   "source": [
    "import numpy as np\n",
    "import seaborn as sns\n",
    "import matplotlib.pyplot as plt\n",
    "\n",
    "# Generate example data\n",
    "data = np.random.randint(0, 10, size=(5, 5))\n",
    "p_values = np.random.rand(5, 5)  # Example p-values\n",
    "\n",
    "# Plot heatmap\n",
    "sns.heatmap(data, fmt=\"d\", cmap=\"viridis\")\n",
    "\n",
    "# Annotate cells with p-values < 0.05\n",
    "for i in range(data.shape[0]):\n",
    "    for j in range(data.shape[1]):\n",
    "        if p_values[i, j] < 0.05:\n",
    "            plt.text(j + 0.5, i + 0.5, f\"p={p_values[i, j]:.2f}\", ha=\"center\", va=\"center\")\n",
    "\n",
    "plt.show()\n",
    "plt.close()"
   ]
  },
  {
   "cell_type": "code",
   "execution_count": 44,
   "metadata": {},
   "outputs": [
    {
     "data": {
      "image/png": "[encoded data removed]",
      "text/plain": [
       "<Figure size 640x480 with 2 Axes>"
      ]
     },
     "metadata": {},
     "output_type": "display_data"
    }
   ],
   "source": [
    "import numpy as np\n",
    "import seaborn as sns\n",
    "import matplotlib.pyplot as plt\n",
    "\n",
    "# Generate example data\n",
    "data = np.random.randint(0, 10, size=(5, 5))\n",
    "p_values = np.random.rand(5, 5)  # Example p-values\n",
    "\n",
    "# Plot heatmap\n",
    "sns.heatmap(data, annot=True, cmap=\"viridis\")\n",
    "\n",
    "# Annotate cells with p-values < 0.05\n",
    "for i in range(data.shape[0]):\n",
    "    for j in range(data.shape[1]):\n",
    "        if p_values[i, j] < 0.05:\n",
    "            plt.text(j + 0.5, i + 0.5, f\"p={p_values[i, j]:.2f}\", ha=\"center\", va=\"center\")\n",
    "        else:\n",
    "            plt.text(j + 0.5, i + 0.5, \" \", ha=\"center\", va=\"center\")\n",
    "\n",
    "plt.show()\n",
    "plt.close()"
   ]
  }
 ],
 "metadata": {
  "kernelspec": {
   "display_name": "Python 3",
   "language": "python",
   "name": "python3"
  },
  "language_info": {
   "codemirror_mode": {
    "name": "ipython",
    "version": 3
   },
   "file_extension": ".py",
   "mimetype": "text/x-python",
   "name": "python",
   "nbconvert_exporter": "python",
   "pygments_lexer": "ipython3",
   "version": "3.11.2"
  }
 },
 "nbformat": 4,
 "nbformat_minor": 2
}
