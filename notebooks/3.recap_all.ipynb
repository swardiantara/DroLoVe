{
 "cells": [
  {
   "cell_type": "code",
   "execution_count": 1,
   "metadata": {},
   "outputs": [
    {
     "name": "stdout",
     "output_type": "stream",
     "text": [
      "e:\\Data Kuliah\\S2 ITS\\Semester 6\\IEEE Access\\DroMoLog\\notebooks\n"
     ]
    }
   ],
   "source": [
    "import os\n",
    "\n",
    "print(os.path.abspath(os.curdir))"
   ]
  },
  {
   "cell_type": "code",
   "execution_count": 2,
   "metadata": {},
   "outputs": [],
   "source": [
    "import os\n",
    "os.chdir(\"..\")"
   ]
  },
  {
   "cell_type": "code",
   "execution_count": 3,
   "metadata": {},
   "outputs": [
    {
     "name": "stdout",
     "output_type": "stream",
     "text": [
      "e:\\Data Kuliah\\S2 ITS\\Semester 6\\IEEE Access\\DroMoLog\n"
     ]
    }
   ],
   "source": [
    "print(os.path.abspath(os.curdir))"
   ]
  },
  {
   "cell_type": "code",
   "execution_count": 6,
   "metadata": {},
   "outputs": [],
   "source": [
    "import os\n",
    "import pandas as pd\n",
    "baseline_path = os.path.join('experiments', 'recap', 'baseline_15', 'recap_overall_baseline_15.xlsx')\n",
    "multitask_path = os.path.join('experiments', 'recap', 'multitask_15', 'recap_overall_multitask_15.xlsx')\n",
    "recap_baseline = pd.read_excel(baseline_path)\n",
    "recap_multitask = pd.read_excel(multitask_path)\n",
    "recap_all = pd.concat([recap_baseline, recap_multitask], ignore_index=True)"
   ]
  },
  {
   "cell_type": "code",
   "execution_count": 7,
   "metadata": {},
   "outputs": [],
   "source": [
    "output_dir = os.path.join('experiments', 'recap')\n",
    "recap_all.to_excel(os.path.join(output_dir, 'final-recap-all.xlsx'), index=False)"
   ]
  },
  {
   "cell_type": "markdown",
   "metadata": {},
   "source": [
    "#### Recap the best models"
   ]
  },
  {
   "cell_type": "code",
   "execution_count": 8,
   "metadata": {},
   "outputs": [],
   "source": [
    "best_baseline_path = os.path.join('experiments', 'recap', 'baseline_15', 'best_model_acc_f1_baseline_15.xlsx')\n",
    "best_multitask_path = os.path.join('experiments', 'recap', 'multitask_15', 'best_model_acc_f1_multitask_15.xlsx')\n",
    "recap_best_baseline = pd.read_excel(best_baseline_path)\n",
    "recap_best_multitask = pd.read_excel(best_multitask_path)\n",
    "recap_best_all = pd.concat([recap_best_baseline, recap_best_multitask], ignore_index=True)"
   ]
  },
  {
   "cell_type": "code",
   "execution_count": 9,
   "metadata": {},
   "outputs": [],
   "source": [
    "output_dir = os.path.join('experiments', 'recap')\n",
    "recap_best_all.to_excel(os.path.join(output_dir, 'recap-best-all.xlsx'), index=False)"
   ]
  }
 ],
 "metadata": {
  "kernelspec": {
   "display_name": "Python 3",
   "language": "python",
   "name": "python3"
  },
  "language_info": {
   "codemirror_mode": {
    "name": "ipython",
    "version": 3
   },
   "file_extension": ".py",
   "mimetype": "text/x-python",
   "name": "python",
   "nbconvert_exporter": "python",
   "pygments_lexer": "ipython3",
   "version": "3.11.2"
  }
 },
 "nbformat": 4,
 "nbformat_minor": 2
}
