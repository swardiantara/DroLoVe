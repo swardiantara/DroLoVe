{
 "cells": [
  {
   "cell_type": "code",
   "execution_count": 1,
   "metadata": {},
   "outputs": [
    {
     "name": "stdout",
     "output_type": "stream",
     "text": [
      "e:\\Data Kuliah\\S2 ITS\\Semester 6\\IEEE Access\\DroMoLog\\notebooks\n"
     ]
    }
   ],
   "source": [
    "import os\n",
    "\n",
    "print(os.path.abspath(os.curdir))"
   ]
  },
  {
   "cell_type": "code",
   "execution_count": 2,
   "metadata": {},
   "outputs": [],
   "source": [
    "import os\n",
    "os.chdir(\"..\")"
   ]
  },
  {
   "cell_type": "code",
   "execution_count": 3,
   "metadata": {},
   "outputs": [
    {
     "name": "stdout",
     "output_type": "stream",
     "text": [
      "e:\\Data Kuliah\\S2 ITS\\Semester 6\\IEEE Access\\DroMoLog\n"
     ]
    }
   ],
   "source": [
    "print(os.path.abspath(os.curdir))"
   ]
  },
  {
   "cell_type": "code",
   "execution_count": 4,
   "metadata": {},
   "outputs": [
    {
     "name": "stderr",
     "output_type": "stream",
     "text": [
      "c:\\Users\\Swardi\\AppData\\Local\\Programs\\Python\\Python311\\Lib\\site-packages\\tqdm\\auto.py:21: TqdmWarning: IProgress not found. Please update jupyter and ipywidgets. See https://ipywidgets.readthedocs.io/en/stable/user_install.html\n",
      "  from .autonotebook import tqdm as notebook_tqdm\n"
     ]
    },
    {
     "data": {
      "text/plain": [
       "[]"
      ]
     },
     "execution_count": 4,
     "metadata": {},
     "output_type": "execute_result"
    },
    {
     "data": {
      "text/plain": [
       "<Figure size 500x250 with 0 Axes>"
      ]
     },
     "metadata": {},
     "output_type": "display_data"
    }
   ],
   "source": [
    "import torch\n",
    "import pandas as pd\n",
    "import matplotlib.pyplot as plt\n",
    "from sklearn.manifold import TSNE\n",
    "from torch.utils.data import DataLoader\n",
    "from sklearn.preprocessing import LabelEncoder\n",
    "from utils.preprocessing import BaselineDataset\n",
    "from transformers import BertModel, BertTokenizer\n",
    "\n",
    "# Set device (GPU if available, else CPU)\n",
    "device = torch.device(\"cuda\" if torch.cuda.is_available() else \"cpu\")\n",
    "idx2label = {\n",
    "        1: 'Normal',\n",
    "        2: 'Low',\n",
    "        3: 'Medium',\n",
    "        4: 'High'\n",
    "    }\n",
    "\n",
    "dataset_path = 'dataset/merged-manual-unique.csv'\n",
    "label_encoder_multi = LabelEncoder()\n",
    "dataset = pd.read_csv(dataset_path)\n",
    "dataset[\"label\"] = dataset['label'].map(idx2label)\n",
    "dataset[\"multiclass_label\"] = label_encoder_multi.fit_transform(dataset[\"label\"].to_list())\n",
    "\n",
    "bert_model_name = \"bert-base-cased\"\n",
    "tokenizer = BertTokenizer.from_pretrained(bert_model_name)\n",
    "bert_model = BertModel.from_pretrained(bert_model_name).to(device)\n",
    "\n",
    "max_seq_length = 65\n",
    "batch_size = 8\n",
    "\n",
    "merged_dataset = BaselineDataset(dataset, tokenizer, max_seq_length)\n",
    "merged_loader = DataLoader(merged_dataset, batch_size=batch_size, shuffle=False)\n",
    "\n",
    "all_labels_multiclass = []\n",
    "all_embeddings = []\n",
    "\n",
    "with torch.no_grad():\n",
    "        for batch in merged_loader:\n",
    "            input_ids = batch[\"input_ids\"].to(device)\n",
    "            attention_mask = batch[\"attention_mask\"].to(device)\n",
    "            labels_index = batch[\"labels_index\"]\n",
    "    \n",
    "            embeddings = bert_model(input_ids, attention_mask).last_hidden_state[:, 0, :]\n",
    "            all_labels_multiclass.extend(labels_index)\n",
    "            all_embeddings.append(embeddings)\n",
    "\n",
    "tsne = TSNE(n_components=2, random_state=42)\n",
    "all_embeddings = torch.cat(all_embeddings, dim=0)\n",
    "reduced_embeddings = tsne.fit_transform(all_embeddings.cpu().numpy())\n",
    "label_decoded = label_encoder_multi.inverse_transform(all_labels_multiclass)\n",
    "labels = list(label_decoded)\n",
    "\n",
    "plt.figure(figsize=(5, 2.5))\n",
    "fig, ax = plt.subplots()\n",
    "\n",
    "unique_labels = ['Normal', 'Low', 'Medium', 'High']\n",
    "colors = ['#4CAF50', '#FFC107', '#FF5722', '#D32F2F']\n",
    "\n",
    "counter = 0\n",
    "for label in unique_labels:\n",
    "    # Filter data points for each unique label\n",
    "    x_filtered = [reduced_embeddings[i][0] for i in range(len(reduced_embeddings)) if labels[i] == label]\n",
    "    y_filtered = [reduced_embeddings[i][1] for i in range(len(reduced_embeddings)) if labels[i] == label]\n",
    "    ax.scatter(x_filtered, y_filtered, label=label, s=15, c=colors[counter])\n",
    "    counter+=1\n",
    "\n",
    "# Add a legend with only unique labels\n",
    "ax.set_xticks([])\n",
    "ax.set_yticks([])\n",
    "legend = ax.legend(loc='upper right')\n",
    "\n",
    "# Display the plot\n",
    "plt.savefig(os.path.join('visualization', \"dataset_viz.pdf\"), bbox_inches='tight')\n",
    "plt.show()\n",
    "plt.close()"
   ]
  }
 ],
 "metadata": {
  "kernelspec": {
   "display_name": "Python 3",
   "language": "python",
   "name": "python3"
  },
  "language_info": {
   "codemirror_mode": {
    "name": "ipython",
    "version": 3
   },
   "file_extension": ".py",
   "mimetype": "text/x-python",
   "name": "python",
   "nbconvert_exporter": "python",
   "pygments_lexer": "ipython3",
   "version": "3.11.2"
  }
 },
 "nbformat": 4,
 "nbformat_minor": 2
}
