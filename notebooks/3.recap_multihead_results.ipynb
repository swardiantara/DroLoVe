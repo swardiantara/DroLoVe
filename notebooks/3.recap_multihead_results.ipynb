{
 "cells": [
  {
   "cell_type": "code",
   "execution_count": null,
   "metadata": {},
   "outputs": [],
   "source": [
    "import os\n",
    "\n",
    "print(os.path.abspath(os.curdir))"
   ]
  },
  {
   "cell_type": "code",
   "execution_count": null,
   "metadata": {},
   "outputs": [],
   "source": [
    "import os\n",
    "os.chdir(\"..\")"
   ]
  },
  {
   "cell_type": "code",
   "execution_count": null,
   "metadata": {},
   "outputs": [],
   "source": [
    "print(os.path.abspath(os.curdir))"
   ]
  },
  {
   "cell_type": "code",
   "execution_count": null,
   "metadata": {},
   "outputs": [],
   "source": [
    "import json\n",
    "import pandas as pd\n",
    "def build_recap_multitask(model, source_dir, output_dir, setting='overall'):\n",
    "# model = 'multi-objective'\n",
    "# source_dir = os.path.join('experiments', model)\n",
    "# output_dir = os.path.join('experiments', 'recap', model)\n",
    "# setting='overall'\n",
    "    recap_overall = pd.DataFrame()\n",
    "    recap_per_class = pd.DataFrame()\n",
    "    dataset_dirs = os.listdir(source_dir)\n",
    "    print(f'datasets: {dataset_dirs}')\n",
    "    for dataset_dir in dataset_dirs:\n",
    "        dataset = dataset_dir\n",
    "        dataset_path = os.path.join(source_dir, dataset_dir)\n",
    "        encoders = os.listdir(dataset_path)\n",
    "        print(f'encoders: {encoders}')\n",
    "        for encoder in encoders:\n",
    "            encoder_path = os.path.join(dataset_path, encoder)\n",
    "            class_weights_1 = os.listdir(encoder_path)\n",
    "            print(f'class_weights_1: {class_weights_1}')\n",
    "            for weight_1 in class_weights_1:\n",
    "                weight_1_path = os.path.join(encoder_path, weight_1)\n",
    "                # losses = os.listdir(weight_1_path)\n",
    "                class_weights_2 = os.listdir(weight_1_path)\n",
    "                print(f'class_weights_2: {class_weights_2}')\n",
    "                for weight_2 in class_weights_2:\n",
    "                    weight_2_path = os.path.join(weight_1_path, weight_2)\n",
    "                    losses_1 = os.listdir(weight_2_path)\n",
    "                    print(f'losses_1: {losses_1}')\n",
    "                    for loss_1 in losses_1:\n",
    "                        # if loss_1 != 'bce':\n",
    "                        #     continue\n",
    "                        loss_1_path = os.path.join(weight_2_path, loss_1)\n",
    "                        losses_2 = os.listdir(loss_1_path)\n",
    "                        print(f'losses_2: {losses_2}')\n",
    "                        for loss_2 in losses_2:\n",
    "                            loss_2_path = os.path.join(loss_1_path, loss_2)\n",
    "                            poolings = os.listdir(loss_2_path)\n",
    "                            for pooling in poolings:\n",
    "                                pool_path = os.path.join(loss_2_path, pooling)\n",
    "                                n_layers = os.listdir(pool_path)\n",
    "                                for n_layer in n_layers:\n",
    "                                    layer_path = os.path.join(pool_path, n_layer)\n",
    "                                    n_heads = os.listdir(layer_path)\n",
    "                                    for n_head in n_heads:\n",
    "                                        head_path = os.path.join(layer_path, n_head)\n",
    "                                        bidirectionals = os.listdir(head_path)\n",
    "                                        for bidirectional in bidirectionals:\n",
    "                                            bidirectional_path = os.path.join(head_path, bidirectional)\n",
    "                                            label_shemas_1 = os.listdir(bidirectional_path)\n",
    "                                            for label_schema_1 in label_shemas_1:\n",
    "                                                # if label_schema_1 != 'binary':\n",
    "                                                #     continue\n",
    "                                                label_schema_1_path = os.path.join(bidirectional_path, label_schema_1)\n",
    "                                                label_schemas_2 = os.listdir(label_schema_1_path)\n",
    "                                                for label_schema_2 in label_schemas_2:\n",
    "                                                    label_schema_2_path = os.path.join(label_schema_1_path, label_schema_2, '30')\n",
    "                                                    files = os.listdir(label_schema_2_path)\n",
    "                                                    eval_report_1_path = os.path.join(label_schema_2_path, files[0])\n",
    "                                                    eval_report_2_path = os.path.join(label_schema_2_path, files[2])\n",
    "                                                    scenario_path = os.path.join(label_schema_2_path, files[6])\n",
    "                                                    with open(eval_report_1_path) as eval_report_1_file:\n",
    "                                                        eval_report_1 = json.load(eval_report_1_file)\n",
    "                                                        with open(eval_report_2_path) as eval_report_2_file:\n",
    "                                                            eval_report_2 = json.load(eval_report_2_file)\n",
    "                                                            with open(scenario_path) as scenario_json_file:\n",
    "                                                                scenario = json.load(scenario_json_file)\n",
    "                                                                if setting == 'overall':\n",
    "                                                                    accuracy_1 = float(round(eval_report_1['accuracy'] * 100, 5))\n",
    "                                                                    precision_1 = float(round(eval_report_1['weighted_avg']['precision'] * 100, 5))\n",
    "                                                                    recall_1 = float(round(eval_report_1['weighted_avg']['recall'] * 100, 5))\n",
    "                                                                    f1_score_1 = float(round(eval_report_1['weighted_avg']['f1-score'] * 100, 5))\n",
    "                                                                    accuracy_2 = float(round(eval_report_2['accuracy'] * 100, 5))\n",
    "                                                                    precision_2 = float(round(eval_report_2['weighted_avg']['precision'] * 100, 5))\n",
    "                                                                    recall_2 = float(round(eval_report_2['weighted_avg']['recall'] * 100, 5))\n",
    "                                                                    f1_score_2 = float(round(eval_report_2['weighted_avg']['f1-score'] * 100, 5))\n",
    "                                                                    best_epoch = int(scenario['best_epoch'])\n",
    "                                                                    columns = ['dataset', 'encoder', 'n_layer', 'n_head', 'bidirectional', 'pooling', 'weight_1', 'weight_2', 'loss_1', 'loss_2', 'label_schema_1', 'label_schema_2', 'best_epoch', 'accuracy_1', 'precision_1', 'recall_1', 'f1_score_1', 'accuracy_2', 'precision_2', 'recall_2', 'f1_score_2']\n",
    "                                                                    row_list = [dataset, encoder, n_layer, n_head, bidirectional, pooling, weight_1, weight_2, loss_1, loss_2, label_schema_1, label_schema_2, best_epoch, accuracy_1, precision_1, recall_1, f1_score_1, accuracy_2, precision_2, recall_2, f1_score_2]\n",
    "                                                                    scenario_df = pd.DataFrame([row_list], index=None, columns=columns)\n",
    "                                                                    recap_overall = pd.concat([recap_overall, scenario_df], ignore_index=True)\n",
    "                                                                    if not os.path.exists(output_dir):\n",
    "                                                                        os.makedirs(output_dir)\n",
    "                                                                    recap_overall.to_excel(os.path.join(output_dir, f'recap_overall_complete_{model}.xlsx'), index=False, float_format='%.5f')\n",
    "                                                                else:\n",
    "                                                                    accuracy = float(round(eval_report_1['accuracy'] * 100, 5))\n",
    "                                                                    best_epoch = int(scenario['best_epoch'])\n",
    "                                                                    high_score = [float(round(eval_report_1['high'][key] * 100, 5)) for key in eval_report_1['high'].keys()]\n",
    "                                                                    low_score = [float(round(eval_report_1['low'][key] * 100, 5)) for key in eval_report_1['low'].keys()]\n",
    "                                                                    medium_score = [float(round(eval_report_1['medium'][key] * 100, 5)) for key in eval_report_1['medium'].keys()]\n",
    "                                                                    normal_score = [float(round(eval_report_1['normal'][key] * 100, 5)) for key in eval_report_1['normal'].keys()]\n",
    "                                                                    columns = ['dataset', 'encoder', 'n_layer', 'n_head', 'bidirectional', 'pooling', 'class_weight', 'scenario', 'best_epoch', 'accuracy', 'high_precision', 'high_recall', 'high_f1_score', 'medium_precision', 'medium_recall', 'medium_f1_score', 'low_precision', 'low_recall', 'low_f1_score', 'normal_precision', 'normal_recall', 'normal_f1_score']\n",
    "                                                                    row_list = [dataset, encoder, n_layer, n_head, bidirectional, pooling, weight, loss, best_epoch, accuracy, high_score[0], high_score[1], high_score[2], medium_score[0], medium_score[1], medium_score[2], low_score[0], low_score[1], low_score[2], normal_score[0], normal_score[1], normal_score[2]]\n",
    "                                                                    scenario_df = pd.DataFrame([row_list], index=None, columns=columns)\n",
    "                                                                    recap_per_class = pd.concat([recap_per_class, scenario_df], ignore_index=True)\n",
    "                                                                    recap_per_class.to_excel(os.path.join(output_dir, f'recap_per_class_{model}.xlsx'), index=False, float_format='%.5f')"
   ]
  },
  {
   "cell_type": "markdown",
   "metadata": {},
   "source": [
    "#### Selected 30 Epochs"
   ]
  },
  {
   "cell_type": "code",
   "execution_count": null,
   "metadata": {},
   "outputs": [],
   "source": [
    "model = 'baseline_15'\n",
    "source_dir = os.path.join('experiments', model)\n",
    "output_dir = os.path.join('experiments', 'recap', model)\n",
    "build_recap_multitask(model, source_dir, output_dir, 'overall')"
   ]
  },
  {
   "cell_type": "markdown",
   "metadata": {},
   "source": [
    "#### Our Own Baseline"
   ]
  },
  {
   "cell_type": "code",
   "execution_count": null,
   "metadata": {},
   "outputs": [],
   "source": [
    "model = 'multi-objective'\n",
    "source_dir = os.path.join('experiments', model)\n",
    "output_dir = os.path.join('experiments', 'recap', model)\n",
    "build_recap_multitask(model, source_dir, output_dir, 'overall')"
   ]
  },
  {
   "cell_type": "code",
   "execution_count": null,
   "metadata": {},
   "outputs": [],
   "source": [
    "model = 'baseline'\n",
    "source_dir = os.path.join('experiments', model)\n",
    "output_dir = os.path.join('experiments', 'recap', model)\n",
    "build_recap_multitask(model, source_dir, output_dir, 'per_class')"
   ]
  },
  {
   "cell_type": "markdown",
   "metadata": {},
   "source": [
    "#### State-of-the-art Baseline"
   ]
  },
  {
   "cell_type": "code",
   "execution_count": null,
   "metadata": {},
   "outputs": [],
   "source": [
    "model = 'transsentlog'\n",
    "source_dir = os.path.join('experiments', model)\n",
    "output_dir = os.path.join('experiments', 'recap', model)\n",
    "build_recap_multitask(model, source_dir, output_dir, 'overall')"
   ]
  },
  {
   "cell_type": "code",
   "execution_count": null,
   "metadata": {},
   "outputs": [],
   "source": [
    "model = 'transsentlog'\n",
    "source_dir = os.path.join('experiments', model)\n",
    "output_dir = os.path.join('experiments', 'recap', model)\n",
    "build_recap_multitask(model, source_dir, output_dir, 'per_class')"
   ]
  },
  {
   "cell_type": "code",
   "execution_count": null,
   "metadata": {},
   "outputs": [],
   "source": [
    "model = 'neurallog'\n",
    "source_dir = os.path.join('experiments', model)\n",
    "output_dir = os.path.join('experiments', 'recap', model)\n",
    "build_recap_multitask(model, source_dir, output_dir, 'overall')"
   ]
  },
  {
   "cell_type": "code",
   "execution_count": null,
   "metadata": {},
   "outputs": [],
   "source": [
    "model = 'neurallog'\n",
    "source_dir = os.path.join('experiments', model)\n",
    "output_dir = os.path.join('experiments', 'recap', model)\n",
    "build_recap_multitask(model, source_dir, output_dir, 'per_class')"
   ]
  }
 ],
 "metadata": {
  "kernelspec": {
   "display_name": "Python 3",
   "language": "python",
   "name": "python3"
  },
  "language_info": {
   "codemirror_mode": {
    "name": "ipython",
    "version": 3
   },
   "file_extension": ".py",
   "mimetype": "text/x-python",
   "name": "python",
   "nbconvert_exporter": "python",
   "pygments_lexer": "ipython3",
   "version": "3.11.2"
  }
 },
 "nbformat": 4,
 "nbformat_minor": 2
}
